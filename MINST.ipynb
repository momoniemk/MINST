{
 "cells": [
  {
   "cell_type": "code",
   "execution_count": 7,
   "id": "8a405324",
   "metadata": {},
   "outputs": [
    {
     "name": "stdout",
     "output_type": "stream",
     "text": [
      "Downloading data from https://storage.googleapis.com/tensorflow/tf-keras-datasets/mnist.npz\n",
      "11493376/11490434 [==============================] - 12s 1us/step\n",
      "11501568/11490434 [==============================] - 12s 1us/step\n"
     ]
    }
   ],
   "source": [
    "from keras.datasets import mnist\n",
    "\n",
    "# loading the dataset\n",
    "(X_train, y_train), (X_test, y_test) = mnist.load_data()\n",
    "# let's print the shape of the dataset"
   ]
  },
  {
   "cell_type": "code",
   "execution_count": 9,
   "id": "4df76162",
   "metadata": {},
   "outputs": [],
   "source": [
    "from keras.models import Sequential\n",
    "from keras.layers import Dense, Dropout, Conv2D, MaxPool2D, Flatten\n",
    "from keras.utils import np_utils\n",
    "\n",
    "# to calculate accuracy\n",
    "from sklearn.metrics import accuracy_score\n",
    "\n",
    "# loading the dataset\n",
    "(X_train, y_train), (X_test, y_test) = mnist.load_data()\n",
    "\n",
    "# building the input vector from the 28x28 pixels\n",
    "X_train = X_train.reshape(X_train.shape[0], 28, 28, 1)\n",
    "X_test = X_test.reshape(X_test.shape[0], 28, 28, 1)\n",
    "X_train = X_train.astype('float32')\n",
    "X_test = X_test.astype('float32')\n"
   ]
  },
  {
   "cell_type": "code",
   "execution_count": 10,
   "id": "63033816",
   "metadata": {},
   "outputs": [],
   "source": [
    "# normalizing the data to help with the training\n",
    "X_train /= 255\n",
    "X_test /= 255"
   ]
  },
  {
   "cell_type": "code",
   "execution_count": 11,
   "id": "97df9561",
   "metadata": {},
   "outputs": [
    {
     "name": "stdout",
     "output_type": "stream",
     "text": [
      "Shape before one-hot encoding:  (60000,)\n",
      "Shape after one-hot encoding:  (60000, 10)\n"
     ]
    }
   ],
   "source": [
    "# one-hot encoding using keras' numpy-related utilities\n",
    "n_classes = 10\n",
    "print(\"Shape before one-hot encoding: \", y_train.shape)\n",
    "Y_train = np_utils.to_categorical(y_train, n_classes)\n",
    "Y_test = np_utils.to_categorical(y_test, n_classes)\n",
    "print(\"Shape after one-hot encoding: \", Y_train.shape)"
   ]
  },
  {
   "cell_type": "code",
   "execution_count": 12,
   "id": "692390d4",
   "metadata": {},
   "outputs": [],
   "source": [
    "# building a linear stack of layers with the sequential model\n",
    "model = Sequential()\n",
    "# convolutional layer\n",
    "model.add(Conv2D(25, kernel_size=(3,3), strides=(1,1), padding='valid', activation='relu', input_shape=(28,28,1)))\n",
    "model.add(MaxPool2D(pool_size=(1,1)))\n",
    "# flatten output of conv\n",
    "model.add(Flatten())\n",
    "# hidden layer\n",
    "model.add(Dense(100, activation='relu'))\n",
    "# output layer\n",
    "model.add(Dense(10, activation='softmax'))"
   ]
  },
  {
   "cell_type": "code",
   "execution_count": 13,
   "id": "7d3ddacb",
   "metadata": {},
   "outputs": [
    {
     "name": "stdout",
     "output_type": "stream",
     "text": [
      "Epoch 1/10\n",
      "469/469 [==============================] - 24s 50ms/step - loss: 0.2024 - accuracy: 0.9411 - val_loss: 0.0741 - val_accuracy: 0.9786\n",
      "Epoch 2/10\n",
      "469/469 [==============================] - 23s 49ms/step - loss: 0.0585 - accuracy: 0.9824 - val_loss: 0.0581 - val_accuracy: 0.9806\n",
      "Epoch 3/10\n",
      "469/469 [==============================] - 23s 49ms/step - loss: 0.0359 - accuracy: 0.9894 - val_loss: 0.0521 - val_accuracy: 0.9822\n",
      "Epoch 4/10\n",
      "469/469 [==============================] - 23s 49ms/step - loss: 0.0226 - accuracy: 0.9934 - val_loss: 0.0509 - val_accuracy: 0.9826\n",
      "Epoch 5/10\n",
      "469/469 [==============================] - 23s 49ms/step - loss: 0.0143 - accuracy: 0.9960 - val_loss: 0.0552 - val_accuracy: 0.9824\n",
      "Epoch 6/10\n",
      "469/469 [==============================] - 24s 51ms/step - loss: 0.0088 - accuracy: 0.9976 - val_loss: 0.0509 - val_accuracy: 0.9848\n",
      "Epoch 7/10\n",
      "469/469 [==============================] - 24s 51ms/step - loss: 0.0074 - accuracy: 0.9979 - val_loss: 0.0530 - val_accuracy: 0.9851\n",
      "Epoch 8/10\n",
      "469/469 [==============================] - 24s 50ms/step - loss: 0.0064 - accuracy: 0.9982 - val_loss: 0.0523 - val_accuracy: 0.9855\n",
      "Epoch 9/10\n",
      "469/469 [==============================] - 24s 51ms/step - loss: 0.0033 - accuracy: 0.9991 - val_loss: 0.0584 - val_accuracy: 0.9836\n",
      "Epoch 10/10\n",
      "469/469 [==============================] - 24s 50ms/step - loss: 0.0030 - accuracy: 0.9992 - val_loss: 0.0639 - val_accuracy: 0.9841\n"
     ]
    },
    {
     "data": {
      "text/plain": [
       "<keras.callbacks.History at 0x28267e6deb8>"
      ]
     },
     "execution_count": 13,
     "metadata": {},
     "output_type": "execute_result"
    }
   ],
   "source": [
    "# compiling the sequential model\n",
    "model.compile(loss='categorical_crossentropy', metrics=['accuracy'], optimizer='adam')\n",
    "\n",
    "# training the model for 10 epochs\n",
    "model.fit(X_train, Y_train, batch_size=128, epochs=10, validation_data=(X_test, Y_test))"
   ]
  },
  {
   "cell_type": "code",
   "execution_count": null,
   "id": "57bf04cf",
   "metadata": {},
   "outputs": [],
   "source": []
  }
 ],
 "metadata": {
  "kernelspec": {
   "display_name": "Python 3",
   "language": "python",
   "name": "python3"
  },
  "language_info": {
   "codemirror_mode": {
    "name": "ipython",
    "version": 3
   },
   "file_extension": ".py",
   "mimetype": "text/x-python",
   "name": "python",
   "nbconvert_exporter": "python",
   "pygments_lexer": "ipython3",
   "version": "3.6.3"
  }
 },
 "nbformat": 4,
 "nbformat_minor": 5
}
